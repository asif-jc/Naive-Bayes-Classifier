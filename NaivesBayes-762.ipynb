{
 "cells": [
  {
   "attachments": {},
   "cell_type": "markdown",
   "metadata": {},
   "source": [
    "Assignment 2 - COMPSCI762 - Asif Cheena (615115260) - Naives Bayes Implementation"
   ]
  },
  {
   "cell_type": "code",
   "execution_count": 61,
   "metadata": {},
   "outputs": [],
   "source": [
    "#Libraries\n",
    "import pandas as pd\n",
    "import numpy as np\n",
    "from sklearn.feature_extraction.text import CountVectorizer\n",
    "from sklearn.naive_bayes import MultinomialNB\n",
    "from sklearn.model_selection import train_test_split\n",
    "from sklearn.metrics import accuracy_score, precision_score, recall_score, f1_score\n",
    "import scipy\n",
    "import nltk\n",
    "from nltk.corpus import stopwords\n",
    "import string\n",
    "from sklearn.metrics import accuracy_score, classification_report\n",
    "from nltk.stem import PorterStemmer, WordNetLemmatizer\n",
    "from nltk.corpus import wordnet\n",
    "from sklearn.model_selection import cross_val_score\n",
    "from sklearn.model_selection import GridSearchCV\n",
    "from builtins import breakpoint\n",
    "from sklearn.feature_extraction.text import TfidfVectorizer\n",
    "from collections import Counter\n",
    "from scipy.sparse import csr_matrix, hstack\n",
    "from sklearn.feature_selection import SelectKBest, mutual_info_classif"
   ]
  },
  {
   "cell_type": "code",
   "execution_count": 11,
   "metadata": {},
   "outputs": [
    {
     "name": "stdout",
     "output_type": "stream",
     "text": [
      "Proportion of frequency of unique values in all columns as percentage:\n",
      "Restaurants    62.191684\n",
      "Shopping       26.427061\n",
      "Nightlife      11.381254\n",
      "Name: category, dtype: float64\n"
     ]
    }
   ],
   "source": [
    "#Label Imbalance Check\n",
    "label_imbalance = train['category'].value_counts()\n",
    "total_count = label_imbalance.sum()\n",
    "percentage_all = (label_imbalance / total_count) * 100\n",
    "print(\"Proportion of frequency of unique values in all columns as percentage:\")\n",
    "print(percentage_all)"
   ]
  },
  {
   "attachments": {},
   "cell_type": "markdown",
   "metadata": {},
   "source": [
    "NB Model, Feature Engineering and Preprocessing"
   ]
  },
  {
   "cell_type": "code",
   "execution_count": 120,
   "metadata": {},
   "outputs": [],
   "source": [
    "###Preprocessing Review Data###\n",
    "def process_text(text):\n",
    "    # Remove punctuation\n",
    "    text = text.translate(str.maketrans('', '', string.punctuation))\n",
    "    # Convert to lowercase\n",
    "    text = text.lower()\n",
    "    return text\n",
    "\n",
    "def split_words(text):\n",
    "    words = text.split()\n",
    "    return words\n",
    "\n",
    "def RemoveStopWords(review):\n",
    "    # Set of commonly occuring stopwords\n",
    "    StopWords = list(stopwords.words(\"english\"))\n",
    "    StopWords.extend(['soooo'])\n",
    "    review = [stopword for stopword in review if stopword not in StopWords]\n",
    "    return review\n",
    "\n",
    "def StemWords(review):\n",
    "    stemmer = PorterStemmer()\n",
    "    stemmed_words = [stemmer.stem(word) for word in review]\n",
    "    return stemmed_words\n",
    "\n",
    "def ApplyPreprocessingSteps (X_train, X_test):\n",
    "    ###Reformatting feature before fitting model###\n",
    "    X_train['review'] = X_train['review'].apply(process_text)\n",
    "    X_train['review'] = X_train['review'].apply(split_words)\n",
    "    X_train['review'] = X_train['review'].apply(RemoveStopWords)\n",
    "    X_train['review'] = X_train['review'].apply(StemWords)\n",
    "\n",
    "    X_test['review'] = X_test['review'].apply(process_text)\n",
    "    X_test['review'] = X_test['review'].apply(split_words)\n",
    "    X_test['review'] = X_test['review'].apply(RemoveStopWords)\n",
    "    X_test['review'] = X_test['review'].apply(StemWords)\n",
    "\n",
    "    ID_train = X_train['ID']\n",
    "    ID_test = X_test['ID']\n",
    "\n",
    "    X_train['review'] = X_train['review'].apply(lambda x: ' '.join(x))\n",
    "    X_test['review'] = X_test['review'].apply(lambda x: ' '.join(x))\n",
    "\n",
    "    X_train_all = X_train\n",
    "    X_test_all = X_test\n",
    "\n",
    "    X_train = X_train['review']\n",
    "    X_test = X_test['review']\n",
    "\n",
    "    return X_train, X_test, ID_train, ID_test, X_train_all, X_test_all\n",
    "    \n",
    "\n",
    "\n",
    "###Bag of Words Feature Implementation###\n",
    "def BoW_Feature(X_train, X_test):\n",
    "# Create a CountVectorizer to convert the text into word count features\n",
    "    vectorizer = CountVectorizer()\n",
    "\n",
    "    vectorizer.fit(X_train)\n",
    "    X_train_counts = vectorizer.fit_transform(X_train)\n",
    "\n",
    "    vocabulary = vectorizer.vocabulary_\n",
    "    X_test_counts = CountVectorizer(vocabulary=vocabulary).fit_transform(X_test)\n",
    "\n",
    "    return X_train_counts, X_test_counts\n",
    "     \n",
    "\n",
    "\n",
    "###Bigrams Feature Implementation###\n",
    "def Bigrams_Feature(X_train, X_test):\n",
    "    vectorizer = CountVectorizer(ngram_range=(2, 2))\n",
    "\n",
    "    vectorizer.fit(X_train)\n",
    "    X_train_counts = vectorizer.fit_transform(X_train)\n",
    "    \n",
    "    vocabulary = vectorizer.vocabulary_\n",
    "    X_test_counts = CountVectorizer(vocabulary=vocabulary).fit_transform(X_test)\n",
    "\n",
    "    return X_train_counts, X_test_counts\n",
    "\n",
    "### BoW Feature for Name Attribute ###\n",
    "# Preprocess the text data\n",
    "def BoW_Names_Feature(X_train_all, X_test_all, X_train_counts, X_test_counts):\n",
    "    #Training set\n",
    "    corpus = X_train_all['name'].tolist()\n",
    "    vocabulary = create_vocabulary(corpus)\n",
    "    X = word_count_corpus(corpus, vocabulary)\n",
    "    name_BoW_train = pd.DataFrame(data = X, columns = vocabulary)\n",
    "    X_train_counts = pd.concat([X_train_counts, name_BoW_train], axis = 1)\n",
    "\n",
    "    #Test set\n",
    "    corpus = X_test_all['name'].tolist()\n",
    "    vocabulary = create_vocabulary(corpus)\n",
    "    X = word_count_corpus(corpus, vocabulary)\n",
    "    name_BoW_test = pd.DataFrame(data = X, columns = vocabulary)\n",
    "    X_test_counts = pd.concat([X_test_counts, name_BoW_test], axis = 1)\n",
    "\n",
    "    return X_train_counts, X_test_counts\n",
    "\n",
    "def preprocess(text):\n",
    "    stopwords = set(nltk.corpus.stopwords.words('english'))\n",
    "    stemmer = nltk.stem.PorterStemmer()\n",
    "    words = nltk.word_tokenize(text.lower())\n",
    "    words = [stemmer.stem(word) for word in words if word.isalpha() and word not in stopwords]\n",
    "    return words\n",
    "\n",
    "# Create a vocabulary of unique words in the corpus\n",
    "def create_vocabulary(corpus, min_df):\n",
    "    vocabulary = set()\n",
    "    doc_freq = Counter()\n",
    "    for text in corpus:\n",
    "        words = preprocess(text)\n",
    "        doc_freq.update(set(words))\n",
    "        vocabulary.update(words)\n",
    "    vocab_size = len(vocabulary)\n",
    "    vocab_freq = {word: freq / vocab_size for word, freq in doc_freq.items()}\n",
    "    vocabulary = {word for word in vocabulary if vocab_freq[word] >= min_df}\n",
    "    return vocabulary\n",
    "\n",
    "# Create a word count frequency feature for a single document\n",
    "def word_count(text, vocabulary):\n",
    "    word_counts = Counter(preprocess(text))\n",
    "    feature_vector = [word_counts[word] for word in vocabulary]\n",
    "    return feature_vector\n",
    "\n",
    "# Create a word count frequency feature for a corpus of documents\n",
    "def word_count_corpus(corpus, vocabulary):\n",
    "    X = [word_count(text, vocabulary) for text in corpus]\n",
    "    return np.array(X)\n",
    "\n",
    "def BoW_Name_Feature(X_train_all, X_test_all, X_train_counts, X_test_counts, min_df):\n",
    "\n",
    "    corpus = X_train_all['name'].tolist()\n",
    "    vocabulary = create_vocabulary(corpus, min_df)\n",
    "    X = word_count_corpus(corpus, vocabulary)\n",
    "    X_sparse = csr_matrix(X)\n",
    "    X_train_counts = hstack((X_sparse, X_train_counts))\n",
    "\n",
    "    corpus = X_test_all['name'].tolist()\n",
    "    X = word_count_corpus(corpus, vocabulary)\n",
    "    X_sparse = csr_matrix(X)\n",
    "    X_test_counts = hstack((X_sparse, X_test_counts))\n",
    "\n",
    "    return X_train_counts, X_test_counts\n",
    "\n",
    "##############################################################\n",
    "\n",
    "def FeatureSelection(X_train_counts, X_test_counts, nfeatures):\n",
    "\n",
    "    df = pd.DataFrame(X_train_counts.toarray())\n",
    "    means = df.mean(axis=0)\n",
    "    sorted_cols = means.sort_values(ascending=False).index\n",
    "    # Reorder columns based on sorted column order\n",
    "    df_sorted = df[sorted_cols]\n",
    "    df_sorted_selected_X_train = df_sorted.iloc[:,0:nfeatures]\n",
    "\n",
    "    df = pd.DataFrame(X_test_counts.toarray())\n",
    "    # Reorder columns based on sorted column order\n",
    "    df_sorted = df[sorted_cols]\n",
    "    df_sorted_selected_X_test = df_sorted.iloc[:,0:nfeatures]\n",
    "\n",
    "    return df_sorted_selected_X_train, df_sorted_selected_X_test\n",
    "\n",
    "\n",
    "###Cross Validation###\n",
    "def CrossValidation(X_train_counts, X_test_counts, y_train):\n",
    "    param_grid = {\n",
    "        'alpha': [0.1, 1.0, 10.0]\n",
    "    }\n",
    "    # Perform k-fold cross-validation to tune hyperparameters\n",
    "    k = 5 # number of folds for cross-validation\n",
    "    naive_bayes = MultinomialNB()\n",
    "    params, scores = [], []\n",
    "\n",
    "    for i in range (5):\n",
    "        grid_search = GridSearchCV(estimator=naive_bayes, param_grid=param_grid, cv=k)\n",
    "        grid_search.fit(X_train_counts, y_train)\n",
    "\n",
    "        # Get the best hyperparameters and their corresponding scores\n",
    "        params.append(grid_search.best_params_)\n",
    "        scores.append(grid_search.best_score_)\n",
    "\n",
    "    best_score = max(scores)\n",
    "    best_score_index = scores.index(best_score)\n",
    "    best_params = params[best_score_index]\n",
    "\n",
    "    print('Best Cross Validation Score: ', best_score)\n",
    "    print('Best Hyperparameter(alpha) value: ', best_params)\n",
    "    print('Approximation of Test Error: ', np.mean(scores))\n",
    "\n",
    "    return best_params\n",
    "\n",
    "\n",
    "###Training Naive Bayes Classifier###\n",
    "def TrainNB(X_train_counts, X_test_counts, best_params, y_train):\n",
    "    clf = MultinomialNB(**best_params)\n",
    "    clf.fit(X_train_counts, y_train)\n",
    "    y_pred = clf.predict(X_test_counts)\n",
    "    return clf, y_pred \n",
    "\n",
    "\n",
    "###Reformatting for submission on Kaggle###\n",
    "def ReformatKaggleTask1(y_pred, ID_test):\n",
    "    data = {'ID': ID_test,\n",
    "            'category': y_pred}\n",
    "    labels_preds = pd.DataFrame(data = data)\n",
    "    labels_preds.to_csv('submission_task1.csv', index = False)\n",
    "    return labels_preds\n",
    "###Reformatting for submission on Kaggle###\n",
    "def ReformatKaggleTask2(y_pred, ID_test):\n",
    "    data = {'ID': ID_test,\n",
    "            'category': y_pred}\n",
    "    labels_preds = pd.DataFrame(data = data)\n",
    "    labels_preds.to_csv('submission_task2.csv', index = False)\n",
    "    return labels_preds"
   ]
  },
  {
   "attachments": {},
   "cell_type": "markdown",
   "metadata": {},
   "source": [
    "Train-Test Split, Data Imports and Assignment Task Main Functions"
   ]
  },
  {
   "cell_type": "code",
   "execution_count": 128,
   "metadata": {},
   "outputs": [
    {
     "name": "stdout",
     "output_type": "stream",
     "text": [
      "Best Cross Validation Score:  0.8865389870084706\n",
      "Best Hyperparameter(alpha) value:  {'alpha': 0.1}\n",
      "Approximation of Test Error:  0.8865389870084706\n",
      "              ID\n",
      "category        \n",
      "Nightlife     77\n",
      "Restaurants  451\n",
      "Shopping     200\n"
     ]
    }
   ],
   "source": [
    "###Import Datasets###\n",
    "train = pd.read_csv(\"train.csv/train.csv\")\n",
    "test = pd.read_csv(\"test.csv\")\n",
    "major = pd.read_csv(\"major.csv\")\n",
    "##############################\n",
    "\n",
    "###Train-test split###\n",
    "X_train = train.drop('category', axis = 1)\n",
    "X_test = test\n",
    "y_train = train['category']\n",
    "##############################\n",
    "\n",
    "RunTask1 = False\n",
    "RunTask2 = True\n",
    "\n",
    "# Task 1\n",
    "if (RunTask1 == True):\n",
    "    X_train, X_test, ID_train, ID_test, X_train_all, X_test_all = ApplyPreprocessingSteps (X_train, X_test)\n",
    "    X_train_counts, X_test_counts = BoW_Feature(X_train, X_test)\n",
    "    best_params = CrossValidation(X_train_counts, X_test_counts, y_train)\n",
    "    clf, y_pred = TrainNB(X_train_counts, X_test_counts, best_params, y_train)\n",
    "    labels_preds = ReformatKaggleTask1(y_pred, ID_test)\n",
    "    labels_preds1 = labels_preds.groupby('category').count()\n",
    "    print(labels_preds1)\n",
    "\n",
    "\n",
    "#Task 2\n",
    "if (RunTask2 == True):\n",
    "    X_train, X_test, ID_train, ID_test, X_train_all, X_test_all = ApplyPreprocessingSteps (X_train, X_test)\n",
    "    X_train_counts, X_test_counts = BoW_Feature(X_train, X_test)\n",
    "    X_train_counts, X_test_counts = BoW_Name_Feature(X_train_all, X_test_all, X_train_counts, X_test_counts, min_df=0.005)\n",
    "    # X_train_counts, X_test_counts = Bigrams_Feature(X_train, X_test)\n",
    "    # X_train_counts = FeatureSelection(X_train_counts)\n",
    "    X_train_counts, X_test_counts = FeatureSelection(X_train_counts, X_test_counts, nfeatures = 10663)\n",
    "    best_params = CrossValidation(X_train_counts, X_test_counts, y_train)\n",
    "    clf, y_pred = TrainNB(X_train_counts, X_test_counts, best_params, y_train)\n",
    "    labels_preds = ReformatKaggleTask2(y_pred, ID_test)\n",
    "    labels_preds2 = labels_preds.groupby('category').count()\n",
    "    print(labels_preds2)"
   ]
  },
  {
   "cell_type": "code",
   "execution_count": 94,
   "metadata": {},
   "outputs": [
    {
     "data": {
      "text/plain": [
       "(728, 10663)"
      ]
     },
     "execution_count": 94,
     "metadata": {},
     "output_type": "execute_result"
    }
   ],
   "source": [
    "X_test_counts.shape"
   ]
  },
  {
   "cell_type": "code",
   "execution_count": 95,
   "metadata": {},
   "outputs": [
    {
     "data": {
      "text/plain": [
       "(2838, 10663)"
      ]
     },
     "execution_count": 95,
     "metadata": {},
     "output_type": "execute_result"
    }
   ],
   "source": [
    "a = X_train_counts.tocsc()\n",
    "a.shape"
   ]
  },
  {
   "cell_type": "code",
   "execution_count": 96,
   "metadata": {},
   "outputs": [
    {
     "data": {
      "text/plain": [
       "(2838, 10663)"
      ]
     },
     "execution_count": 96,
     "metadata": {},
     "output_type": "execute_result"
    }
   ],
   "source": [
    "X_train_counts.shape"
   ]
  },
  {
   "cell_type": "code",
   "execution_count": 80,
   "metadata": {},
   "outputs": [],
   "source": [
    "# means = np.array(X_train_counts.mean(axis=1)).flatten() # Calculate mean of each row\n",
    "# sorted_indices = np.argsort(means)[::-1] # Get the indices of rows sorted in descending order of means\n",
    "# sorted_csr_mat = X_train_counts[sorted_indices]\n",
    "# # Print the top 10 rows with highest means\n",
    "# for i in range(10):\n",
    "#     row_index = sorted_indices[i]\n",
    "#     mean_value = means[row_index]\n",
    "#     print(f\"Row {row_index}: Mean = {mean_value}\")\n",
    "\n",
    "# # top_k_values, top_k_indices = sorted_csr_mat.topk(k=100, axis=1, sorted=True)\n",
    "\n",
    "# Compute column means\n",
    "column_means = np.array(X_train_counts.mean(axis=0)).squeeze()\n",
    "# Get indices of the top 100 columns with highest means\n",
    "top_indices = np.argsort(column_means)[-100:]\n",
    "# Select only the top 100 columns\n",
    "sparse_matrix_top = X_train_counts[:, top_indices]"
   ]
  },
  {
   "cell_type": "code",
   "execution_count": 117,
   "metadata": {},
   "outputs": [],
   "source": [
    "\n",
    "df = pd.DataFrame(X_train_counts.toarray())\n",
    "means = df.mean(axis=0)\n",
    "sorted_cols = means.sort_values(ascending=False).index\n",
    "\n",
    "# Reorder columns based on sorted column order\n",
    "df_sorted = df[sorted_cols]\n",
    "\n",
    "df_sorted_selected = df_sorted.iloc[:,0:250]"
   ]
  },
  {
   "cell_type": "code",
   "execution_count": 118,
   "metadata": {},
   "outputs": [
    {
     "data": {
      "text/plain": [
       "0.03770260747004933"
      ]
     },
     "execution_count": 118,
     "metadata": {},
     "output_type": "execute_result"
    }
   ],
   "source": [
    "np.mean(hehe.iloc[:,249])"
   ]
  }
 ],
 "metadata": {
  "kernelspec": {
   "display_name": "base",
   "language": "python",
   "name": "python3"
  },
  "language_info": {
   "codemirror_mode": {
    "name": "ipython",
    "version": 3
   },
   "file_extension": ".py",
   "mimetype": "text/x-python",
   "name": "python",
   "nbconvert_exporter": "python",
   "pygments_lexer": "ipython3",
   "version": "3.9.13"
  },
  "orig_nbformat": 4,
  "vscode": {
   "interpreter": {
    "hash": "3c72465834f68a82a380b1bb255dc9eb0268c62ec4fd41c7e9b24aa61e88aecc"
   }
  }
 },
 "nbformat": 4,
 "nbformat_minor": 2
}
